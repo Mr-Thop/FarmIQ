{
 "cells": [
  {
   "cell_type": "code",
   "execution_count": null,
   "metadata": {},
   "outputs": [],
   "source": [
    "%pip install Flask"
   ]
  },
  {
   "cell_type": "code",
   "execution_count": 1,
   "metadata": {},
   "outputs": [
    {
     "name": "stdout",
     "output_type": "stream",
     "text": [
      "Requirement already satisfied: Flask-Cors in d:\\download\\hackathons\\puneagri\\.venv\\lib\\site-packages (5.0.1)\n",
      "Requirement already satisfied: flask>=0.9 in d:\\download\\hackathons\\puneagri\\.venv\\lib\\site-packages (from Flask-Cors) (3.1.0)\n",
      "Requirement already satisfied: Werkzeug>=0.7 in d:\\download\\hackathons\\puneagri\\.venv\\lib\\site-packages (from Flask-Cors) (3.1.3)\n",
      "Requirement already satisfied: Jinja2>=3.1.2 in d:\\download\\hackathons\\puneagri\\.venv\\lib\\site-packages (from flask>=0.9->Flask-Cors) (3.1.6)\n",
      "Requirement already satisfied: itsdangerous>=2.2 in d:\\download\\hackathons\\puneagri\\.venv\\lib\\site-packages (from flask>=0.9->Flask-Cors) (2.2.0)\n",
      "Requirement already satisfied: click>=8.1.3 in d:\\download\\hackathons\\puneagri\\.venv\\lib\\site-packages (from flask>=0.9->Flask-Cors) (8.2.0)\n",
      "Requirement already satisfied: blinker>=1.9 in d:\\download\\hackathons\\puneagri\\.venv\\lib\\site-packages (from flask>=0.9->Flask-Cors) (1.9.0)\n",
      "Requirement already satisfied: colorama in d:\\download\\hackathons\\puneagri\\.venv\\lib\\site-packages (from click>=8.1.3->flask>=0.9->Flask-Cors) (0.4.6)\n",
      "Requirement already satisfied: MarkupSafe>=2.0 in d:\\download\\hackathons\\puneagri\\.venv\\lib\\site-packages (from Jinja2>=3.1.2->flask>=0.9->Flask-Cors) (3.0.2)\n",
      "Note: you may need to restart the kernel to use updated packages.\n"
     ]
    }
   ],
   "source": [
    "%pip install Flask-Cors"
   ]
  },
  {
   "cell_type": "code",
   "execution_count": null,
   "metadata": {},
   "outputs": [],
   "source": []
  }
 ],
 "metadata": {
  "kernelspec": {
   "display_name": ".venv",
   "language": "python",
   "name": "python3"
  },
  "language_info": {
   "codemirror_mode": {
    "name": "ipython",
    "version": 3
   },
   "file_extension": ".py",
   "mimetype": "text/x-python",
   "name": "python",
   "nbconvert_exporter": "python",
   "pygments_lexer": "ipython3",
   "version": "3.10.11"
  }
 },
 "nbformat": 4,
 "nbformat_minor": 2
}
